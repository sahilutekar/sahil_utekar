{
  "nbformat": 4,
  "nbformat_minor": 0,
  "metadata": {
    "colab": {
      "name": "Tweeter Sentiment Analysis.ipynb",
      "provenance": [],
      "collapsed_sections": [],
      "toc_visible": true,
      "include_colab_link": true
    },
    "kernelspec": {
      "name": "python3",
      "display_name": "Python 3"
    }
  },
  "cells": [
    {
      "cell_type": "markdown",
      "metadata": {
        "id": "view-in-github",
        "colab_type": "text"
      },
      "source": [
        "<a href=\"https://colab.research.google.com/github/sahilutekar/sahil_utekar/blob/master/Tweeter_Sentiment_Analysis.ipynb\" target=\"_parent\"><img src=\"https://colab.research.google.com/assets/colab-badge.svg\" alt=\"Open In Colab\"/></a>"
      ]
    },
    {
      "cell_type": "markdown",
      "metadata": {
        "id": "HvWhPHAFD468",
        "colab_type": "text"
      },
      "source": [
        "\n",
        "**Importing the necsessary python libraries**\n"
      ]
    },
    {
      "cell_type": "code",
      "metadata": {
        "id": "HHKtkoVqqgra",
        "colab_type": "code",
        "colab": {
          "base_uri": "https://localhost:8080/",
          "height": 35
        },
        "outputId": "aa8199a4-dc91-410d-b4e1-f40b0118a8de"
      },
      "source": [
        "# import packages\n",
        "import re # For Regex \n",
        "import pandas as pd \n",
        "import numpy as np #for arrays\n",
        "import matplotlib.pyplot as plt #for simple plotiing the results\n",
        "import seaborn as sns\n",
        "import string #For Punctuation\n",
        "import nltk #For Natural Language Processing\n",
        "import warnings \n",
        "warnings.filterwarnings(\"ignore\", category=DeprecationWarning)\n",
        "from collections import Counter #for wordlist\n",
        "\n",
        "%matplotlib inline\n",
        "pd.option_context('display.max_colwidth', 1000)"
      ],
      "execution_count": null,
      "outputs": [
        {
          "output_type": "execute_result",
          "data": {
            "text/plain": [
              "<pandas._config.config.option_context at 0x7f09ea0f5630>"
            ]
          },
          "metadata": {
            "tags": []
          },
          "execution_count": 55
        }
      ]
    },
    {
      "cell_type": "markdown",
      "metadata": {
        "id": "U7AvoJxMFvNx",
        "colab_type": "text"
      },
      "source": [
        "Importing the Dataset for our Project. The Dataset contains two files - one for the training purpose and other is the test data for the final result."
      ]
    },
    {
      "cell_type": "code",
      "metadata": {
        "id": "YE0w36hOreUp",
        "colab_type": "code",
        "colab": {}
      },
      "source": [
        "train  = pd.read_csv('train.txt', sep=\",\")\n",
        "test  = pd.read_csv('test_samples.txt', sep=\",\")"
      ],
      "execution_count": null,
      "outputs": []
    },
    {
      "cell_type": "markdown",
      "metadata": {
        "id": "s2eXOVgGHLY3",
        "colab_type": "text"
      },
      "source": [
        "**Now we'll check that how many tweets are there for each kind of sentiments(Positive, Negative and Neutral)**"
      ]
    },
    {
      "cell_type": "code",
      "metadata": {
        "id": "coCQb2OTrnzR",
        "colab_type": "code",
        "colab": {
          "base_uri": "https://localhost:8080/",
          "height": 35
        },
        "outputId": "8b3d1e21-a039-431f-8d01-9708700a3ee0"
      },
      "source": [
        "sum(train[\"sentiment\"] == \"neutral\") #To find nos of Neutral Tweets."
      ],
      "execution_count": null,
      "outputs": [
        {
          "output_type": "execute_result",
          "data": {
            "text/plain": [
              "9014"
            ]
          },
          "metadata": {
            "tags": []
          },
          "execution_count": 59
        }
      ]
    },
    {
      "cell_type": "code",
      "metadata": {
        "id": "3Ry4x4KnseqY",
        "colab_type": "code",
        "colab": {
          "base_uri": "https://localhost:8080/",
          "height": 35
        },
        "outputId": "51c96b25-98ba-42d0-a106-82b8d93da253"
      },
      "source": [
        "sum(train[\"sentiment\"] == \"positive\") #To find nos of Neutral Tweets."
      ],
      "execution_count": null,
      "outputs": [
        {
          "output_type": "execute_result",
          "data": {
            "text/plain": [
              "9064"
            ]
          },
          "metadata": {
            "tags": []
          },
          "execution_count": 60
        }
      ]
    },
    {
      "cell_type": "code",
      "metadata": {
        "id": "8OoFrhASshDQ",
        "colab_type": "code",
        "colab": {
          "base_uri": "https://localhost:8080/",
          "height": 35
        },
        "outputId": "36e653f9-bb13-40a5-bf69-8be196a175d7"
      },
      "source": [
        "sum(train[\"sentiment\"] == \"negative\") #To find nos of Neutral Tweets."
      ],
      "execution_count": null,
      "outputs": [
        {
          "output_type": "execute_result",
          "data": {
            "text/plain": [
              "3387"
            ]
          },
          "metadata": {
            "tags": []
          },
          "execution_count": 61
        }
      ]
    },
    {
      "cell_type": "markdown",
      "metadata": {
        "id": "n2IUOya3jJU0",
        "colab_type": "text"
      },
      "source": [
        "**Performing some basic data exploration**\n",
        "\n",
        "\n"
      ]
    },
    {
      "cell_type": "code",
      "metadata": {
        "id": "-btcR-z4jKiB",
        "colab_type": "code",
        "colab": {
          "base_uri": "https://localhost:8080/",
          "height": 206
        },
        "outputId": "0ecd20b6-3888-49b0-8080-089638af3066"
      },
      "source": [
        "#viewing top 5 rows\n",
        "train.head(5)"
      ],
      "execution_count": null,
      "outputs": [
        {
          "output_type": "execute_result",
          "data": {
            "text/html": [
              "<div>\n",
              "<style scoped>\n",
              "    .dataframe tbody tr th:only-of-type {\n",
              "        vertical-align: middle;\n",
              "    }\n",
              "\n",
              "    .dataframe tbody tr th {\n",
              "        vertical-align: top;\n",
              "    }\n",
              "\n",
              "    .dataframe thead th {\n",
              "        text-align: right;\n",
              "    }\n",
              "</style>\n",
              "<table border=\"1\" class=\"dataframe\">\n",
              "  <thead>\n",
              "    <tr style=\"text-align: right;\">\n",
              "      <th></th>\n",
              "      <th>tweet_id</th>\n",
              "      <th>sentiment</th>\n",
              "      <th>tweet_text</th>\n",
              "    </tr>\n",
              "  </thead>\n",
              "  <tbody>\n",
              "    <tr>\n",
              "      <th>0</th>\n",
              "      <td>264183816548130816</td>\n",
              "      <td>positive</td>\n",
              "      <td>Gas by my house hit $3.39!!!! I\\u2019m going t...</td>\n",
              "    </tr>\n",
              "    <tr>\n",
              "      <th>1</th>\n",
              "      <td>263405084770172928</td>\n",
              "      <td>negative</td>\n",
              "      <td>Theo Walcott is still shit\\u002c watch Rafa an...</td>\n",
              "    </tr>\n",
              "    <tr>\n",
              "      <th>2</th>\n",
              "      <td>262163168678248449</td>\n",
              "      <td>negative</td>\n",
              "      <td>its not that I\\u2019m a GSP fan\\u002c i just h...</td>\n",
              "    </tr>\n",
              "    <tr>\n",
              "      <th>3</th>\n",
              "      <td>264249301910310912</td>\n",
              "      <td>negative</td>\n",
              "      <td>Iranian general says Israel\\u2019s Iron Dome c...</td>\n",
              "    </tr>\n",
              "    <tr>\n",
              "      <th>4</th>\n",
              "      <td>262682041215234048</td>\n",
              "      <td>neutral</td>\n",
              "      <td>Tehran\\u002c Mon Amour: Obama Tried to Establi...</td>\n",
              "    </tr>\n",
              "  </tbody>\n",
              "</table>\n",
              "</div>"
            ],
            "text/plain": [
              "             tweet_id  ...                                         tweet_text\n",
              "0  264183816548130816  ...  Gas by my house hit $3.39!!!! I\\u2019m going t...\n",
              "1  263405084770172928  ...  Theo Walcott is still shit\\u002c watch Rafa an...\n",
              "2  262163168678248449  ...  its not that I\\u2019m a GSP fan\\u002c i just h...\n",
              "3  264249301910310912  ...  Iranian general says Israel\\u2019s Iron Dome c...\n",
              "4  262682041215234048  ...  Tehran\\u002c Mon Amour: Obama Tried to Establi...\n",
              "\n",
              "[5 rows x 3 columns]"
            ]
          },
          "metadata": {
            "tags": []
          },
          "execution_count": 62
        }
      ]
    },
    {
      "cell_type": "code",
      "metadata": {
        "id": "81mZg10bjSzG",
        "colab_type": "code",
        "colab": {
          "base_uri": "https://localhost:8080/",
          "height": 206
        },
        "outputId": "1ce733bd-cb2b-456d-ca38-e7449f06961f"
      },
      "source": [
        "#viewing top 5 rows\n",
        "test.head(5)"
      ],
      "execution_count": null,
      "outputs": [
        {
          "output_type": "execute_result",
          "data": {
            "text/html": [
              "<div>\n",
              "<style scoped>\n",
              "    .dataframe tbody tr th:only-of-type {\n",
              "        vertical-align: middle;\n",
              "    }\n",
              "\n",
              "    .dataframe tbody tr th {\n",
              "        vertical-align: top;\n",
              "    }\n",
              "\n",
              "    .dataframe thead th {\n",
              "        text-align: right;\n",
              "    }\n",
              "</style>\n",
              "<table border=\"1\" class=\"dataframe\">\n",
              "  <thead>\n",
              "    <tr style=\"text-align: right;\">\n",
              "      <th></th>\n",
              "      <th>tweet_id</th>\n",
              "      <th>tweet_text</th>\n",
              "    </tr>\n",
              "  </thead>\n",
              "  <tbody>\n",
              "    <tr>\n",
              "      <th>0</th>\n",
              "      <td>264238274963451904</td>\n",
              "      <td>@jjuueellzz down in the Atlantic city, ventnor...</td>\n",
              "    </tr>\n",
              "    <tr>\n",
              "      <th>1</th>\n",
              "      <td>218775148495515649</td>\n",
              "      <td>Musical awareness: Great Big Beautiful Tomorro...</td>\n",
              "    </tr>\n",
              "    <tr>\n",
              "      <th>2</th>\n",
              "      <td>258965201766998017</td>\n",
              "      <td>On Radio786 100.4fm 7:10 Fri Oct 19 Labour ana...</td>\n",
              "    </tr>\n",
              "    <tr>\n",
              "      <th>3</th>\n",
              "      <td>262926411352903682</td>\n",
              "      <td>Kapan sih lo ngebuktiin,jan ngomong doang Susa...</td>\n",
              "    </tr>\n",
              "    <tr>\n",
              "      <th>4</th>\n",
              "      <td>171874368908050432</td>\n",
              "      <td>Excuse the connectivity of this live stream, f...</td>\n",
              "    </tr>\n",
              "  </tbody>\n",
              "</table>\n",
              "</div>"
            ],
            "text/plain": [
              "             tweet_id                                         tweet_text\n",
              "0  264238274963451904  @jjuueellzz down in the Atlantic city, ventnor...\n",
              "1  218775148495515649  Musical awareness: Great Big Beautiful Tomorro...\n",
              "2  258965201766998017  On Radio786 100.4fm 7:10 Fri Oct 19 Labour ana...\n",
              "3  262926411352903682  Kapan sih lo ngebuktiin,jan ngomong doang Susa...\n",
              "4  171874368908050432  Excuse the connectivity of this live stream, f..."
            ]
          },
          "metadata": {
            "tags": []
          },
          "execution_count": 63
        }
      ]
    },
    {
      "cell_type": "code",
      "metadata": {
        "id": "Qnankwwujbwx",
        "colab_type": "code",
        "colab": {
          "base_uri": "https://localhost:8080/",
          "height": 256
        },
        "outputId": "ab381ac2-5d2a-4650-ab82-949b91289479"
      },
      "source": [
        "#getting feature name and their types - to check for missing values\n",
        "print(\"Feature names and their types : \\n\",train.info(), \"\\n\")"
      ],
      "execution_count": null,
      "outputs": [
        {
          "output_type": "stream",
          "text": [
            "<class 'pandas.core.frame.DataFrame'>\n",
            "RangeIndex: 21465 entries, 0 to 21464\n",
            "Data columns (total 3 columns):\n",
            " #   Column      Non-Null Count  Dtype \n",
            "---  ------      --------------  ----- \n",
            " 0   tweet_id    21465 non-null  int64 \n",
            " 1   sentiment   21465 non-null  object\n",
            " 2   tweet_text  21465 non-null  object\n",
            "dtypes: int64(1), object(2)\n",
            "memory usage: 503.2+ KB\n",
            "Feature names and their types : \n",
            " None \n",
            "\n"
          ],
          "name": "stdout"
        }
      ]
    },
    {
      "cell_type": "code",
      "metadata": {
        "id": "fOaptJifjffT",
        "colab_type": "code",
        "colab": {
          "base_uri": "https://localhost:8080/",
          "height": 237
        },
        "outputId": "29c4eae3-cbcb-4e8a-93b5-aa2414cec3ee"
      },
      "source": [
        "#getting feature name and their types - to check for missing values\n",
        "print(\"Feature names and their types : \\n\",test.info(), \"\\n\")"
      ],
      "execution_count": null,
      "outputs": [
        {
          "output_type": "stream",
          "text": [
            "<class 'pandas.core.frame.DataFrame'>\n",
            "RangeIndex: 5398 entries, 0 to 5397\n",
            "Data columns (total 2 columns):\n",
            " #   Column      Non-Null Count  Dtype \n",
            "---  ------      --------------  ----- \n",
            " 0   tweet_id    5398 non-null   int64 \n",
            " 1   tweet_text  5398 non-null   object\n",
            "dtypes: int64(1), object(1)\n",
            "memory usage: 84.5+ KB\n",
            "Feature names and their types : \n",
            " None \n",
            "\n"
          ],
          "name": "stdout"
        }
      ]
    },
    {
      "cell_type": "code",
      "metadata": {
        "id": "TtCrOaBDjiCS",
        "colab_type": "code",
        "colab": {
          "base_uri": "https://localhost:8080/",
          "height": 109
        },
        "outputId": "268637df-c5f9-4bb2-fc6d-0595ece857f7"
      },
      "source": [
        "##shape of training data\n",
        "print(\"Shape of Data : \\n\", train.shape, \"\\n\")\n",
        "print(\"No. of rows in the data = \", train.shape[0])\n",
        "print(\"No. of columns in the data = \", train.shape[1])"
      ],
      "execution_count": null,
      "outputs": [
        {
          "output_type": "stream",
          "text": [
            "Shape of Data : \n",
            " (21465, 3) \n",
            "\n",
            "No. of rows in the data =  21465\n",
            "No. of columns in the data =  3\n"
          ],
          "name": "stdout"
        }
      ]
    },
    {
      "cell_type": "code",
      "metadata": {
        "id": "AxvjnrHyjh6d",
        "colab_type": "code",
        "colab": {
          "base_uri": "https://localhost:8080/",
          "height": 109
        },
        "outputId": "95a05d4f-c0c7-4cbd-9e8d-05d40183197b"
      },
      "source": [
        "##shape of test data\n",
        "print(\"Shape of Data : \\n\", test.shape, \"\\n\")\n",
        "print(\"No. of rows in the data = \", test.shape[0])\n",
        "print(\"No. of columns in the data = \", test.shape[1])"
      ],
      "execution_count": null,
      "outputs": [
        {
          "output_type": "stream",
          "text": [
            "Shape of Data : \n",
            " (5398, 2) \n",
            "\n",
            "No. of rows in the data =  5398\n",
            "No. of columns in the data =  2\n"
          ],
          "name": "stdout"
        }
      ]
    },
    {
      "cell_type": "code",
      "metadata": {
        "id": "7BhXwWZejmsY",
        "colab_type": "code",
        "colab": {
          "base_uri": "https://localhost:8080/",
          "height": 109
        },
        "outputId": "a9998252-83ec-4363-c163-51459605378d"
      },
      "source": [
        "## Statistics for categorical features\n",
        "print(\"See counts for sentiment columns : \")\n",
        "train['sentiment'].value_counts()"
      ],
      "execution_count": null,
      "outputs": [
        {
          "output_type": "stream",
          "text": [
            "See counts for sentiment columns : \n"
          ],
          "name": "stdout"
        },
        {
          "output_type": "execute_result",
          "data": {
            "text/plain": [
              "positive    9064\n",
              "neutral     9014\n",
              "negative    3387\n",
              "Name: sentiment, dtype: int64"
            ]
          },
          "metadata": {
            "tags": []
          },
          "execution_count": 69
        }
      ]
    },
    {
      "cell_type": "code",
      "metadata": {
        "id": "0eF_UBsFjnpE",
        "colab_type": "code",
        "colab": {
          "base_uri": "https://localhost:8080/",
          "height": 387
        },
        "outputId": "7da8e987-4b56-4044-cfb7-91fdc23e4322"
      },
      "source": [
        "print(\"See percenatge for categorical columns : \")\n",
        "d = train['sentiment'].value_counts(normalize = True) * 100 # series\n",
        "print(d)\n",
        "\n",
        "## plot for analysis\n",
        "plt.bar(x = d.index, height = d.values, label = d.index, color= ['green','blue','red'])\n",
        "plt.xlabel(\"Sentiments\")\n",
        "plt.ylabel(\"Percentage\")\n",
        "plt.title(\"Percentage of each type of tweet\")\n",
        "plt.show()"
      ],
      "execution_count": null,
      "outputs": [
        {
          "output_type": "stream",
          "text": [
            "See percenatge for categorical columns : \n",
            "positive    42.226881\n",
            "neutral     41.993944\n",
            "negative    15.779175\n",
            "Name: sentiment, dtype: float64\n"
          ],
          "name": "stdout"
        },
        {
          "output_type": "display_data",
          "data": {
            "image/png": "[encoded data removed]",
            "text/plain": [
              "<Figure size 432x288 with 1 Axes>"
            ]
          },
          "metadata": {
            "tags": [],
            "needs_background": "light"
          }
        }
      ]
    },
    {
      "cell_type": "markdown",
      "metadata": {
        "id": "n3-lsumNjrgX",
        "colab_type": "text"
      },
      "source": [
        "So, The training data contains 42.2% positive tweets, 41.99% neutral tweets and rest 15.78% tweets are negative."
      ]
    },
    {
      "cell_type": "markdown",
      "metadata": {
        "id": "YzKJ7m93jsnb",
        "colab_type": "text"
      },
      "source": [
        "# Now the most important part i.e DATA CLEANING\n",
        "\n",
        "1.Remove all kinds of emojis present in the text part.\n",
        "2.Remove all kind urls(https:// or www...) from the text part.\n",
        "3 Remove the punctuation marks from the text.\n",
        "\n",
        "Note, that We're not writing a single function for all of these steps. Each step is done one by one for each training and test data."
      ]
    },
    {
      "cell_type": "code",
      "metadata": {
        "id": "-wa5rsfgsxQy",
        "colab_type": "code",
        "colab": {}
      },
      "source": [
        "def deEmojify(text):\n",
        "    regrex_pattern = re.compile(pattern = \"[\"\n",
        "        u\"\\U0001F600-\\U0001F64F\"  # emoticons\n",
        "        u\"\\U0001F300-\\U0001F5FF\"  # symbols & pictographs\n",
        "        u\"\\U0001F680-\\U0001F6FF\"  # transport & map symbols\n",
        "        u\"\\U0001F1E0-\\U0001F1FF\"  # flags (iOS)\n",
        "        u\"\\U00002500-\\U00002BEF\"  # chinese char\n",
        "        u\"\\U00002702-\\U000027B0\"\n",
        "        u\"\\U00002702-\\U000027B0\"\n",
        "        u\"\\U000024C2-\\U0001F251\"\n",
        "        u\"\\U0001f926-\\U0001f937\"\n",
        "        u\"\\U00010000-\\U0010ffff\"\n",
        "        u\"\\u2640-\\u2642\" \n",
        "        u\"\\u2600-\\u2B55\"\n",
        "        u\"\\u200d\"\n",
        "        u\"\\u23cf\"\n",
        "        u\"\\u23e9\"\n",
        "        u\"\\u231a\"\n",
        "        u\"\\ufe0f\"  # dingbats\n",
        "        u\"\\u3030\"\n",
        "                           \"]+\", flags = re.UNICODE)\n",
        "    return regrex_pattern.sub(r'',text)\n",
        "\n",
        "punctuation = '!\"#$%&()*+-/:;<=>?@[\\\\]^_`{|}~'\n",
        "P = set(punctuation)\n",
        "P.add('•')\n",
        "P.add('...')\n",
        "P.add('....')\n",
        "P.add(':')\n",
        "P.add('Ä¶')\n",
        "P.add('’')\n",
        "P.add('♀')\n",
        "P.add('ー')\n",
        "P.add('``')"
      ],
      "execution_count": null,
      "outputs": []
    },
    {
      "cell_type": "code",
      "metadata": {
        "id": "Kb1WZ6SjtR_5",
        "colab_type": "code",
        "colab": {}
      },
      "source": [
        "train['tweet_text_clean'] = train['tweet_text'].apply(lambda x: deEmojify(x))\n",
        "test['tweet_text_clean'] = test['tweet_text'].apply(lambda x: deEmojify(x))\n",
        "\n",
        "train['tweet_text_clean'] = train['tweet_text'].apply(lambda x: re.sub(r'http\\S+', '', x))\n",
        "test['tweet_text_clean'] = test['tweet_text'].apply(lambda x: re.sub(r'http\\S+', '', x))\n",
        "\n",
        "train['tweet_text_clean'] = train['tweet_text'].apply(lambda x: ''.join(ch for ch in x if ch not in P))\n",
        "test['tweet_text_clean'] = test['tweet_text'].apply(lambda x: ''.join(ch for ch in x if ch not in P))"
      ],
      "execution_count": null,
      "outputs": []
    },
    {
      "cell_type": "markdown",
      "metadata": {
        "id": "USTeOAP7j6fZ",
        "colab_type": "text"
      },
      "source": [
        "Now, all the tweet texts of train and test data are cleaned"
      ]
    },
    {
      "cell_type": "markdown",
      "metadata": {
        "id": "mKZ8bJ6dj7d6",
        "colab_type": "text"
      },
      "source": [
        "\n",
        "\n",
        "```\n",
        "# This is formatted as code\n",
        "```\n",
        "\n",
        "# DATA PRE-PROCESSING\n",
        "\n",
        "1.Tokenization For Tokenization, nltk('punkt') needs to be installed. It'll help to build the wordlist and the wordcloud.\n",
        "\n",
        "2.Lemmatization Apart from the most commonly used lemmatizers, here we used spacy lemmatizer spaCy is a relatively new in the space and is billed as an industrial strength NLP engine. It comes with pre-built models that can parse text and compute various NLP related features through one single function call. Ofcourse, it provides the lemma of the word too. spaCy determines the part-of-speech tag by default and assigns the corresponding lemma. It comes with a bunch of prebuilt models where the ‘en’ we just downloaded above is one of the standard ones for english. It did all the lemmatizations the Wordnet Lemmatizer supplied with the correct POS tag did. Plus it also lemmatized ‘best’ to ‘good’. Nice! You’d see the -PRON- character coming up whenever spacy detects a pronoun.\n",
        "\n",
        "3.Removing Stopwords Removing Stopwords is done at very last. The reason is after lemmatizing some unwanted characters come up in the text, so to remove those from the text, this is done at very last."
      ]
    },
    {
      "cell_type": "code",
      "metadata": {
        "id": "PRKTJxIkth8o",
        "colab_type": "code",
        "colab": {
          "base_uri": "https://localhost:8080/",
          "height": 109
        },
        "outputId": "d1f8043b-d59c-4cc7-80f5-928602f81752"
      },
      "source": [
        "import nltk\n",
        "nltk.download('punkt')  \n",
        "nltk.download('stopwords')"
      ],
      "execution_count": null,
      "outputs": [
        {
          "output_type": "stream",
          "text": [
            "[nltk_data] Downloading package punkt to /root/nltk_data...\n",
            "[nltk_data]   Package punkt is already up-to-date!\n",
            "[nltk_data] Downloading package stopwords to /root/nltk_data...\n",
            "[nltk_data]   Package stopwords is already up-to-date!\n"
          ],
          "name": "stdout"
        },
        {
          "output_type": "execute_result",
          "data": {
            "text/plain": [
              "True"
            ]
          },
          "metadata": {
            "tags": []
          },
          "execution_count": 73
        }
      ]
    },
    {
      "cell_type": "code",
      "metadata": {
        "id": "IKn5CK9WkCh3",
        "colab_type": "code",
        "colab": {}
      },
      "source": [
        "from nltk.probability import FreqDist, ELEProbDist\n",
        "from nltk.classify.util import apply_features,accuracy"
      ],
      "execution_count": null,
      "outputs": []
    },
    {
      "cell_type": "code",
      "metadata": {
        "id": "9EgiadMMtcDH",
        "colab_type": "code",
        "colab": {}
      },
      "source": [
        "def tokenization(text):\n",
        "    tokens = nltk.word_tokenize(text)\n",
        "    return tokens\n",
        "\n",
        "import spacy\n",
        "nlp = spacy.load('en', disable=['parser', 'ner'])\n",
        "\n",
        "def lemmatization(texts):\n",
        "    output = []\n",
        "    for i in texts:\n",
        "        s = [token.lemma_ for token in nlp(i)]\n",
        "        output.append(' '.join(s))\n",
        "    return output\n",
        "\n",
        "\n",
        "stopword = nltk.corpus.stopwords.words('english')\n",
        "stopword.append('amp')\n",
        "stopword.append('-PRON-')\n",
        "stopword.append('\\r\\n')\n",
        "stopword.append('…')\n",
        "stopword.append(\"'s\")\n",
        "stopword.append(\"'\")\n",
        "stopword.append('...')\n",
        "stopword.append('v√°')\n",
        "stopword.append('..')\n",
        "\n",
        "def remove_sw(text):\n",
        "  text_tokens = tokenization(text)\n",
        "  tokens_without_sw= [word for word in text_tokens if not word in stopword]\n",
        "  result = ' '.join(tokens_without_sw)\n",
        "  return result "
      ],
      "execution_count": null,
      "outputs": []
    },
    {
      "cell_type": "code",
      "metadata": {
        "id": "fJlsnMCxtng2",
        "colab_type": "code",
        "colab": {}
      },
      "source": [
        "tokenized_tweet = train['tweet_text_clean'].apply(lambda x: tokenization(x)) #tokenizing\n",
        "tokenized_tweet1 = test['tweet_text_clean'].apply(lambda x: tokenization(x)) #tokenizing\n",
        "\n",
        "for i in range(len(tokenized_tweet)):\n",
        "  tokenized_tweet[i] = ' '.join(tokenized_tweet[i])\n",
        "\n",
        "train['tweet_text_clean'] = tokenized_tweet\n",
        "\n",
        "for i in range(len(tokenized_tweet1)):\n",
        "  tokenized_tweet1[i] = ' '.join(tokenized_tweet1[i])\n",
        "test['tweet_text_clean'] = tokenized_tweet1\n",
        "\n",
        "\n",
        "train['tweet_text_clean'] = lemmatization(train['tweet_text_clean'])\n",
        "test['tweet_text_clean'] = lemmatization(test['tweet_text_clean'])\n",
        "\n",
        "train['tweet_text_clean'] = train['tweet_text_clean'].apply(lambda x: remove_sw(x))\n",
        "test['tweet_text_clean'] = test['tweet_text_clean'].apply(lambda x: remove_sw(x))"
      ],
      "execution_count": null,
      "outputs": []
    },
    {
      "cell_type": "markdown",
      "metadata": {
        "id": "kfoaTz_BlmEL",
        "colab_type": "text"
      },
      "source": [
        "Now, all the cleaned tweet texts of train and test data are pre-processed."
      ]
    },
    {
      "cell_type": "markdown",
      "metadata": {
        "id": "A8_jgcljlpk-",
        "colab_type": "text"
      },
      "source": [
        "Display of Word Distribution with respect to Wordlist\n",
        "\n",
        "Display of Word Cloud\n",
        "\n",
        "Display FREQUENCY DISTRIBUTION OF TOP 20 WORDS in the clean text of Training Data"
      ]
    },
    {
      "cell_type": "code",
      "metadata": {
        "id": "AWmm59JhltmW",
        "colab_type": "code",
        "colab": {
          "base_uri": "https://localhost:8080/",
          "height": 35
        },
        "outputId": "099c5077-6289-4f83-cbbd-496d545c9545"
      },
      "source": [
        "tokenized_tweet_r = train['tweet_text_clean'].apply(lambda x: tokenization(x)) #tokenizing\n",
        "tokenized_tweet_t = test['tweet_text_clean'].apply(lambda x: tokenization(x)) #tokenizing\n",
        "train['tokenized_text'] = tokenized_tweet_r\n",
        "test['tokenized_text'] = tokenized_tweet_t\n",
        "words = Counter()\n",
        "\n",
        "for idx in train.index:\n",
        "  words.update(train.loc[idx, 'tokenized_text'])\n",
        "\n",
        "Q = ['.', ',']\n",
        "for idx, stop_word in enumerate(Q):\n",
        "    del words[stop_word]\n",
        "\n",
        "words.most_common(5)"
      ],
      "execution_count": null,
      "outputs": [
        {
          "output_type": "execute_result",
          "data": {
            "text/plain": [
              "[('tomorrow', 3401), ('go', 2871), ('may', 2700), ('get', 1978), ('see', 1672)]"
            ]
          },
          "metadata": {
            "tags": []
          },
          "execution_count": 78
        }
      ]
    },
    {
      "cell_type": "code",
      "metadata": {
        "id": "Ny0yEZBWl0o-",
        "colab_type": "code",
        "colab": {
          "base_uri": "https://localhost:8080/",
          "height": 542
        },
        "outputId": "db4267a8-ad10-485d-b1b9-021ae67eeb23"
      },
      "source": [
        "min_occurrences=3\n",
        "max_occurences=500\n",
        "word_df = pd.DataFrame(data={\"word\": [k for k, v in words.most_common() if min_occurrences < v < max_occurences],\n",
        "                                     \"occurrences\": [v for k, v in words.most_common() if min_occurrences < v < max_occurences]},\n",
        "                               columns=[\"word\", \"occurrences\"])\n",
        "\n",
        "word_df.to_csv(\"wordlist.csv\", index_label=\"idx\")\n",
        "import plotly\n",
        "from plotly import graph_objs\n",
        "words = pd.read_csv(\"wordlist.csv\")\n",
        "x_words = list(words.loc[0:10,\"word\"])\n",
        "x_words.reverse()\n",
        "y_occ = list(words.loc[0:10,\"occurrences\"])\n",
        "y_occ.reverse()\n",
        "\n",
        "dist = [\n",
        "    graph_objs.Bar(\n",
        "        x=y_occ,\n",
        "        y=x_words,\n",
        "        orientation=\"h\"\n",
        ")]\n",
        "plotly.offline.iplot({\"data\":dist, \"layout\":graph_objs.Layout(title=\"Top words in built wordlist\")})"
      ],
      "execution_count": null,
      "outputs": [
        {
          "output_type": "display_data",
          "data": {
            "text/html": [
              "<html>\n",
              "<head><meta charset=\"utf-8\" /></head>\n",
              "<body>\n",
              "    <div>\n",
              "            <script src=\"https://cdnjs.cloudflare.com/ajax/libs/mathjax/2.7.5/MathJax.js?config=TeX-AMS-MML_SVG\"></script><script type=\"text/javascript\">if (window.MathJax) {MathJax.Hub.Config({SVG: {font: \"STIX-Web\"}});}</script>\n",
              "                <script type=\"text/javascript\">window.PlotlyConfig = {MathJaxConfig: 'local'};</script>\n",
              "        <script src=\"https://cdn.plot.ly/plotly-latest.min.js\"></script>    \n",
              "            <div id=\"fc811f5f-9e3c-451a-9e92-9e3acb221d0c\" class=\"plotly-graph-div\" style=\"height:525px; width:100%;\"></div>\n",
              "            <script type=\"text/javascript\">\n",
              "                \n",
              "                    window.PLOTLYENV=window.PLOTLYENV || {};\n",
              "                    \n",
              "                if (document.getElementById(\"fc811f5f-9e3c-451a-9e92-9e3acb221d0c\")) {\n",
              "                    Plotly.newPlot(\n",
              "                        'fc811f5f-9e3c-451a-9e92-9e3acb221d0c',\n",
              "                        [{\"orientation\": \"h\", \"type\": \"bar\", \"x\": [410, 411, 431, 442, 445, 446, 455, 459, 463, 477, 486], \"y\": [\"work\", \"season\", \"great\", \"need\", \"first\", \"RT\", \"3\", \"next\", \"Iu2019\", \"4th\", \"wait\"]}],\n",
              "                        {\"template\": {\"data\": {\"bar\": [{\"error_x\": {\"color\": \"#2a3f5f\"}, \"error_y\": {\"color\": \"#2a3f5f\"}, \"marker\": {\"line\": {\"color\": \"#E5ECF6\", \"width\": 0.5}}, \"type\": \"bar\"}], \"barpolar\": [{\"marker\": {\"line\": {\"color\": \"#E5ECF6\", \"width\": 0.5}}, \"type\": \"barpolar\"}], \"carpet\": [{\"aaxis\": {\"endlinecolor\": \"#2a3f5f\", \"gridcolor\": \"white\", \"linecolor\": \"white\", \"minorgridcolor\": \"white\", \"startlinecolor\": \"#2a3f5f\"}, \"baxis\": {\"endlinecolor\": \"#2a3f5f\", \"gridcolor\": \"white\", \"linecolor\": \"white\", \"minorgridcolor\": \"white\", \"startlinecolor\": \"#2a3f5f\"}, \"type\": \"carpet\"}], \"choropleth\": [{\"colorbar\": {\"outlinewidth\": 0, \"ticks\": \"\"}, \"type\": \"choropleth\"}], \"contour\": [{\"colorbar\": {\"outlinewidth\": 0, \"ticks\": \"\"}, \"colorscale\": [[0.0, \"#0d0887\"], [0.1111111111111111, \"#46039f\"], [0.2222222222222222, \"#7201a8\"], [0.3333333333333333, \"#9c179e\"], [0.4444444444444444, \"#bd3786\"], [0.5555555555555556, \"#d8576b\"], [0.6666666666666666, \"#ed7953\"], [0.7777777777777778, \"#fb9f3a\"], [0.8888888888888888, \"#fdca26\"], [1.0, \"#f0f921\"]], \"type\": \"contour\"}], \"contourcarpet\": [{\"colorbar\": {\"outlinewidth\": 0, \"ticks\": \"\"}, \"type\": \"contourcarpet\"}], \"heatmap\": [{\"colorbar\": {\"outlinewidth\": 0, \"ticks\": \"\"}, \"colorscale\": [[0.0, \"#0d0887\"], [0.1111111111111111, \"#46039f\"], [0.2222222222222222, \"#7201a8\"], [0.3333333333333333, \"#9c179e\"], [0.4444444444444444, \"#bd3786\"], [0.5555555555555556, \"#d8576b\"], [0.6666666666666666, \"#ed7953\"], [0.7777777777777778, \"#fb9f3a\"], [0.8888888888888888, \"#fdca26\"], [1.0, \"#f0f921\"]], \"type\": \"heatmap\"}], \"heatmapgl\": [{\"colorbar\": {\"outlinewidth\": 0, \"ticks\": \"\"}, \"colorscale\": [[0.0, \"#0d0887\"], [0.1111111111111111, \"#46039f\"], [0.2222222222222222, \"#7201a8\"], [0.3333333333333333, \"#9c179e\"], [0.4444444444444444, \"#bd3786\"], [0.5555555555555556, \"#d8576b\"], [0.6666666666666666, \"#ed7953\"], [0.7777777777777778, \"#fb9f3a\"], [0.8888888888888888, \"#fdca26\"], [1.0, \"#f0f921\"]], \"type\": \"heatmapgl\"}], \"histogram\": [{\"marker\": {\"colorbar\": {\"outlinewidth\": 0, \"ticks\": \"\"}}, \"type\": \"histogram\"}], \"histogram2d\": [{\"colorbar\": {\"outlinewidth\": 0, \"ticks\": \"\"}, \"colorscale\": [[0.0, \"#0d0887\"], [0.1111111111111111, \"#46039f\"], [0.2222222222222222, \"#7201a8\"], [0.3333333333333333, \"#9c179e\"], [0.4444444444444444, \"#bd3786\"], [0.5555555555555556, \"#d8576b\"], [0.6666666666666666, \"#ed7953\"], [0.7777777777777778, \"#fb9f3a\"], [0.8888888888888888, \"#fdca26\"], [1.0, \"#f0f921\"]], \"type\": \"histogram2d\"}], \"histogram2dcontour\": [{\"colorbar\": {\"outlinewidth\": 0, \"ticks\": \"\"}, \"colorscale\": [[0.0, \"#0d0887\"], [0.1111111111111111, \"#46039f\"], [0.2222222222222222, \"#7201a8\"], [0.3333333333333333, \"#9c179e\"], [0.4444444444444444, \"#bd3786\"], [0.5555555555555556, \"#d8576b\"], [0.6666666666666666, \"#ed7953\"], [0.7777777777777778, \"#fb9f3a\"], [0.8888888888888888, \"#fdca26\"], [1.0, \"#f0f921\"]], \"type\": \"histogram2dcontour\"}], \"mesh3d\": [{\"colorbar\": {\"outlinewidth\": 0, \"ticks\": \"\"}, \"type\": \"mesh3d\"}], \"parcoords\": [{\"line\": {\"colorbar\": {\"outlinewidth\": 0, \"ticks\": \"\"}}, \"type\": \"parcoords\"}], \"pie\": [{\"automargin\": true, \"type\": \"pie\"}], \"scatter\": [{\"marker\": {\"colorbar\": {\"outlinewidth\": 0, \"ticks\": \"\"}}, \"type\": \"scatter\"}], \"scatter3d\": [{\"line\": {\"colorbar\": {\"outlinewidth\": 0, \"ticks\": \"\"}}, \"marker\": {\"colorbar\": {\"outlinewidth\": 0, \"ticks\": \"\"}}, \"type\": \"scatter3d\"}], \"scattercarpet\": [{\"marker\": {\"colorbar\": {\"outlinewidth\": 0, \"ticks\": \"\"}}, \"type\": \"scattercarpet\"}], \"scattergeo\": [{\"marker\": {\"colorbar\": {\"outlinewidth\": 0, \"ticks\": \"\"}}, \"type\": \"scattergeo\"}], \"scattergl\": [{\"marker\": {\"colorbar\": {\"outlinewidth\": 0, \"ticks\": \"\"}}, \"type\": \"scattergl\"}], \"scattermapbox\": [{\"marker\": {\"colorbar\": {\"outlinewidth\": 0, \"ticks\": \"\"}}, \"type\": \"scattermapbox\"}], \"scatterpolar\": [{\"marker\": {\"colorbar\": {\"outlinewidth\": 0, \"ticks\": \"\"}}, \"type\": \"scatterpolar\"}], \"scatterpolargl\": [{\"marker\": {\"colorbar\": {\"outlinewidth\": 0, \"ticks\": \"\"}}, \"type\": \"scatterpolargl\"}], \"scatterternary\": [{\"marker\": {\"colorbar\": {\"outlinewidth\": 0, \"ticks\": \"\"}}, \"type\": \"scatterternary\"}], \"surface\": [{\"colorbar\": {\"outlinewidth\": 0, \"ticks\": \"\"}, \"colorscale\": [[0.0, \"#0d0887\"], [0.1111111111111111, \"#46039f\"], [0.2222222222222222, \"#7201a8\"], [0.3333333333333333, \"#9c179e\"], [0.4444444444444444, \"#bd3786\"], [0.5555555555555556, \"#d8576b\"], [0.6666666666666666, \"#ed7953\"], [0.7777777777777778, \"#fb9f3a\"], [0.8888888888888888, \"#fdca26\"], [1.0, \"#f0f921\"]], \"type\": \"surface\"}], \"table\": [{\"cells\": {\"fill\": {\"color\": \"#EBF0F8\"}, \"line\": {\"color\": \"white\"}}, \"header\": {\"fill\": {\"color\": \"#C8D4E3\"}, \"line\": {\"color\": \"white\"}}, \"type\": \"table\"}]}, \"layout\": {\"annotationdefaults\": {\"arrowcolor\": \"#2a3f5f\", \"arrowhead\": 0, \"arrowwidth\": 1}, \"coloraxis\": {\"colorbar\": {\"outlinewidth\": 0, \"ticks\": \"\"}}, \"colorscale\": {\"diverging\": [[0, \"#8e0152\"], [0.1, \"#c51b7d\"], [0.2, \"#de77ae\"], [0.3, \"#f1b6da\"], [0.4, \"#fde0ef\"], [0.5, \"#f7f7f7\"], [0.6, \"#e6f5d0\"], [0.7, \"#b8e186\"], [0.8, \"#7fbc41\"], [0.9, \"#4d9221\"], [1, \"#276419\"]], \"sequential\": [[0.0, \"#0d0887\"], [0.1111111111111111, \"#46039f\"], [0.2222222222222222, \"#7201a8\"], [0.3333333333333333, \"#9c179e\"], [0.4444444444444444, \"#bd3786\"], [0.5555555555555556, \"#d8576b\"], [0.6666666666666666, \"#ed7953\"], [0.7777777777777778, \"#fb9f3a\"], [0.8888888888888888, \"#fdca26\"], [1.0, \"#f0f921\"]], \"sequentialminus\": [[0.0, \"#0d0887\"], [0.1111111111111111, \"#46039f\"], [0.2222222222222222, \"#7201a8\"], [0.3333333333333333, \"#9c179e\"], [0.4444444444444444, \"#bd3786\"], [0.5555555555555556, \"#d8576b\"], [0.6666666666666666, \"#ed7953\"], [0.7777777777777778, \"#fb9f3a\"], [0.8888888888888888, \"#fdca26\"], [1.0, \"#f0f921\"]]}, \"colorway\": [\"#636efa\", \"#EF553B\", \"#00cc96\", \"#ab63fa\", \"#FFA15A\", \"#19d3f3\", \"#FF6692\", \"#B6E880\", \"#FF97FF\", \"#FECB52\"], \"font\": {\"color\": \"#2a3f5f\"}, \"geo\": {\"bgcolor\": \"white\", \"lakecolor\": \"white\", \"landcolor\": \"#E5ECF6\", \"showlakes\": true, \"showland\": true, \"subunitcolor\": \"white\"}, \"hoverlabel\": {\"align\": \"left\"}, \"hovermode\": \"closest\", \"mapbox\": {\"style\": \"light\"}, \"paper_bgcolor\": \"white\", \"plot_bgcolor\": \"#E5ECF6\", \"polar\": {\"angularaxis\": {\"gridcolor\": \"white\", \"linecolor\": \"white\", \"ticks\": \"\"}, \"bgcolor\": \"#E5ECF6\", \"radialaxis\": {\"gridcolor\": \"white\", \"linecolor\": \"white\", \"ticks\": \"\"}}, \"scene\": {\"xaxis\": {\"backgroundcolor\": \"#E5ECF6\", \"gridcolor\": \"white\", \"gridwidth\": 2, \"linecolor\": \"white\", \"showbackground\": true, \"ticks\": \"\", \"zerolinecolor\": \"white\"}, \"yaxis\": {\"backgroundcolor\": \"#E5ECF6\", \"gridcolor\": \"white\", \"gridwidth\": 2, \"linecolor\": \"white\", \"showbackground\": true, \"ticks\": \"\", \"zerolinecolor\": \"white\"}, \"zaxis\": {\"backgroundcolor\": \"#E5ECF6\", \"gridcolor\": \"white\", \"gridwidth\": 2, \"linecolor\": \"white\", \"showbackground\": true, \"ticks\": \"\", \"zerolinecolor\": \"white\"}}, \"shapedefaults\": {\"line\": {\"color\": \"#2a3f5f\"}}, \"ternary\": {\"aaxis\": {\"gridcolor\": \"white\", \"linecolor\": \"white\", \"ticks\": \"\"}, \"baxis\": {\"gridcolor\": \"white\", \"linecolor\": \"white\", \"ticks\": \"\"}, \"bgcolor\": \"#E5ECF6\", \"caxis\": {\"gridcolor\": \"white\", \"linecolor\": \"white\", \"ticks\": \"\"}}, \"title\": {\"x\": 0.05}, \"xaxis\": {\"automargin\": true, \"gridcolor\": \"white\", \"linecolor\": \"white\", \"ticks\": \"\", \"title\": {\"standoff\": 15}, \"zerolinecolor\": \"white\", \"zerolinewidth\": 2}, \"yaxis\": {\"automargin\": true, \"gridcolor\": \"white\", \"linecolor\": \"white\", \"ticks\": \"\", \"title\": {\"standoff\": 15}, \"zerolinecolor\": \"white\", \"zerolinewidth\": 2}}}, \"title\": {\"text\": \"Top words in built wordlist\"}},\n",
              "                        {\"responsive\": true}\n",
              "                    ).then(function(){\n",
              "                            \n",
              "var gd = document.getElementById('fc811f5f-9e3c-451a-9e92-9e3acb221d0c');\n",
              "var x = new MutationObserver(function (mutations, observer) {{\n",
              "        var display = window.getComputedStyle(gd).display;\n",
              "        if (!display || display === 'none') {{\n",
              "            console.log([gd, 'removed!']);\n",
              "            Plotly.purge(gd);\n",
              "            observer.disconnect();\n",
              "        }}\n",
              "}});\n",
              "\n",
              "// Listen for the removal of the full notebook cells\n",
              "var notebookContainer = gd.closest('#notebook-container');\n",
              "if (notebookContainer) {{\n",
              "    x.observe(notebookContainer, {childList: true});\n",
              "}}\n",
              "\n",
              "// Listen for the clearing of the current output cell\n",
              "var outputEl = gd.closest('.output');\n",
              "if (outputEl) {{\n",
              "    x.observe(outputEl, {childList: true});\n",
              "}}\n",
              "\n",
              "                        })\n",
              "                };\n",
              "                \n",
              "            </script>\n",
              "        </div>\n",
              "</body>\n",
              "</html>"
            ]
          },
          "metadata": {
            "tags": []
          }
        }
      ]
    },
    {
      "cell_type": "code",
      "metadata": {
        "id": "qoqTqLWal13Y",
        "colab_type": "code",
        "colab": {}
      },
      "source": [
        "pp_list = []\n",
        "temp = list(train['tweet_text_clean'])\n",
        "for i in range(len(temp)):\n",
        "  pp_list.append(temp[i])"
      ],
      "execution_count": null,
      "outputs": []
    },
    {
      "cell_type": "code",
      "metadata": {
        "id": "hRMAZTjQl5Tu",
        "colab_type": "code",
        "colab": {
          "base_uri": "https://localhost:8080/",
          "height": 74
        },
        "outputId": "94f0dbe9-f5b1-482e-9ee6-918577bca8ea"
      },
      "source": [
        "# for graphical display of preprocessed data\n",
        "from nltk.tokenize import word_tokenize\n",
        "tokens = []\n",
        "for i in pp_list:\n",
        "  tokens.extend(word_tokenize(i))\n",
        "\n",
        "\n",
        "R = ['.', ',']\n",
        "Token = []\n",
        "for i in range(len(tokens)):\n",
        "    if tokens[i] not in R:\n",
        "        Token.append(tokens[i])\n",
        "        \n",
        "print(\"Top 20 words used in the tweets are : \\n\", Token[:20])"
      ],
      "execution_count": null,
      "outputs": [
        {
          "output_type": "stream",
          "text": [
            "Top 20 words used in the tweets are : \n",
            " ['gas', 'house', 'hit', '3.39', 'Iu2019', 'go', 'Chapel', 'Hill', 'Sat', 'Theo', 'Walcott', 'still', 'shitu002c', 'watch', 'Rafa', 'Johnny', 'deal', 'Saturday', 'Iu2019', 'GSP']\n"
          ],
          "name": "stdout"
        }
      ]
    },
    {
      "cell_type": "code",
      "metadata": {
        "id": "Lpb-f4WHl69_",
        "colab_type": "code",
        "colab": {
          "base_uri": "https://localhost:8080/",
          "height": 285
        },
        "outputId": "e9b36e16-369b-412a-9216-2eedc79bcd59"
      },
      "source": [
        "def word_cloud(Token):\n",
        "  '''A word cloud (also known as text clouds or tag clouds) is a visualization, \n",
        "  the more a specific word appears in the text, the bigger and bolder it appears in the word cloud.\n",
        "  '''\n",
        "  from wordcloud import WordCloud\n",
        "  w = ' '.join([i for i in Token])\n",
        "  wc = WordCloud(width = 1000, height = 700, random_state=21, max_font_size=110).generate(w)\n",
        "  plt.imshow(wc, interpolation = \"bilinear\")\n",
        "  plt.axis('off')\n",
        "  plt.show()\n",
        "\n",
        "print(\"\\nWord Cloud for the pre- processed data.\")\n",
        "\n",
        "word_cloud(Token)"
      ],
      "execution_count": null,
      "outputs": [
        {
          "output_type": "stream",
          "text": [
            "\n",
            "Word Cloud for the pre- processed data.\n"
          ],
          "name": "stdout"
        },
        {
          "output_type": "display_data",
          "data": {
            "image/png": "[encoded data removed]",
            "text/plain": [
              "<Figure size 432x288 with 1 Axes>"
            ]
          },
          "metadata": {
            "tags": [],
            "needs_background": "light"
          }
        }
      ]
    },
    {
      "cell_type": "code",
      "metadata": {
        "id": "5dn55xull9VD",
        "colab_type": "code",
        "colab": {}
      },
      "source": [
        "def freq_words(Token):\n",
        "  '''See frequency distribution of words'''\n",
        "  from nltk.probability import FreqDist\n",
        "  fdist = FreqDist(Token)\n",
        "  \n",
        "freq_words(Token)"
      ],
      "execution_count": null,
      "outputs": []
    },
    {
      "cell_type": "code",
      "metadata": {
        "id": "VY7SsTagmAzM",
        "colab_type": "code",
        "colab": {
          "base_uri": "https://localhost:8080/",
          "height": 741
        },
        "outputId": "65b00926-423a-414c-d9cb-0bd0ef397d19"
      },
      "source": [
        "# top 20 most common words\n",
        "fdist = FreqDist(Token)\n",
        "print(\"Top 20 most common words in the data. \\n\")\n",
        "df = pd.DataFrame(fdist.most_common(20), columns=['Tokens', 'Frequency'])\n",
        "print(df)\n",
        "\n",
        "# plot of top 20 most common words\n",
        "fdist.plot(20, cumulative = False)\n",
        "plt.show()"
      ],
      "execution_count": null,
      "outputs": [
        {
          "output_type": "stream",
          "text": [
            "Top 20 most common words in the data. \n",
            "\n",
            "      Tokens  Frequency\n",
            "0   tomorrow       3401\n",
            "1         go       2871\n",
            "2        may       2700\n",
            "3        get       1978\n",
            "4        see       1672\n",
            "5        day       1317\n",
            "6      night       1286\n",
            "7        1st       1232\n",
            "8       like       1211\n",
            "9        n't       1204\n",
            "10      time       1197\n",
            "11      good       1165\n",
            "12      come       1145\n",
            "13     watch       1106\n",
            "14      game       1068\n",
            "15      make       1064\n",
            "16    Friday       1057\n",
            "17    Sunday        971\n",
            "18  Saturday        925\n",
            "19       say        900\n"
          ],
          "name": "stdout"
        },
        {
          "output_type": "display_data",
          "data": {
            "image/png": "[encoded data removed]",
            "text/plain": [
              "<Figure size 432x288 with 1 Axes>"
            ]
          },
          "metadata": {
            "tags": [],
            "needs_background": "light"
          }
        }
      ]
    },
    {
      "cell_type": "markdown",
      "metadata": {
        "id": "a1sCVT4KmIsE",
        "colab_type": "text"
      },
      "source": [
        "First, all tweets from the training data are divided into three parts based on the sentiments, they are pos_tweets (contains all positive sentiment based clean tweet_text) , neu_tweets (contains all neutral sentiment based clean tweet_text), neg_tweets (contains all negative sentiment based clean tweet_text) with the format (clean tweet_text , sentiment)"
      ]
    },
    {
      "cell_type": "code",
      "metadata": {
        "id": "U-8Y55eAGAj1",
        "colab_type": "code",
        "colab": {}
      },
      "source": [
        "pos_tweets = []\n",
        "neu_tweets = []\n",
        "neg_tweets = []"
      ],
      "execution_count": null,
      "outputs": []
    },
    {
      "cell_type": "markdown",
      "metadata": {
        "id": "DvUQBRM9mLtz",
        "colab_type": "text"
      },
      "source": [
        "Now We'll divide the training data into three parts based on the sentiment. Now We'll three separate dataframes Positive, Negative and Neutral."
      ]
    },
    {
      "cell_type": "code",
      "metadata": {
        "id": "F-6E2ghdmNKi",
        "colab_type": "code",
        "colab": {}
      },
      "source": [
        "positive = train[train['sentiment'] == 'positive']\n",
        "neutral = train[train['sentiment'] == 'neutral']\n",
        "negative = train[train['sentiment'] == 'negative']"
      ],
      "execution_count": null,
      "outputs": []
    },
    {
      "cell_type": "code",
      "metadata": {
        "id": "BBNafKsNMw8z",
        "colab_type": "code",
        "colab": {}
      },
      "source": [
        "a = list(positive['tweet_text_clean'])\n",
        "b = list(positive['sentiment'])\n",
        "c = len(a)\n",
        "for i in range(c):\n",
        "  temp = (a[i], b[i])\n",
        "  pos_tweets.append(temp)"
      ],
      "execution_count": null,
      "outputs": []
    },
    {
      "cell_type": "code",
      "metadata": {
        "id": "UYFw1X9zN2A7",
        "colab_type": "code",
        "colab": {}
      },
      "source": [
        "d = list(neutral['tweet_text_clean'])\n",
        "e = list(neutral['sentiment'])\n",
        "f = len(d)\n",
        "for i in range(f):\n",
        "  temp = (d[i], e[i])\n",
        "  neu_tweets.append(temp)"
      ],
      "execution_count": null,
      "outputs": []
    },
    {
      "cell_type": "code",
      "metadata": {
        "id": "jpoWmUUmOEVc",
        "colab_type": "code",
        "colab": {}
      },
      "source": [
        "g = list(negative['tweet_text_clean'])\n",
        "h = list(negative['sentiment'])\n",
        "j = len(g)\n",
        "for i in range(j):\n",
        "  temp = (g[i], h[i])\n",
        "  neg_tweets.append(temp)"
      ],
      "execution_count": null,
      "outputs": []
    },
    {
      "cell_type": "markdown",
      "metadata": {
        "id": "qpQU4bDnmSre",
        "colab_type": "text"
      },
      "source": [
        "All three tweet lists pos_tweets , neu_tweets and neg_tweets are mergeed into a single list i.e tweets with the format (clean tweet_text , sentiment)."
      ]
    },
    {
      "cell_type": "code",
      "metadata": {
        "id": "SEiuTCyGORcZ",
        "colab_type": "code",
        "colab": {}
      },
      "source": [
        "tweets = []\n",
        "for (words, sentiment) in pos_tweets+neu_tweets+neg_tweets:\n",
        "  words_filtered=[e.lower() for e in words.split() if len(e)>=3]\n",
        "  tweets.append((words_filtered,sentiment))"
      ],
      "execution_count": null,
      "outputs": []
    },
    {
      "cell_type": "markdown",
      "metadata": {
        "id": "5b7KnKcZYJe1",
        "colab_type": "text"
      },
      "source": [
        "# This is the first approach using simple NLTK based Naive Bayes Classifer "
      ]
    },
    {
      "cell_type": "markdown",
      "metadata": {
        "id": "KH5qdVZXYcf6",
        "colab_type": "text"
      },
      "source": [
        "Using nltk.classify.naivebayes"
      ]
    },
    {
      "cell_type": "markdown",
      "metadata": {
        "id": "pi0hI7zFmWPu",
        "colab_type": "text"
      },
      "source": [
        "For Naive Bayes classifer, It's important to extract features from tweets which will be useful for the classifications on the test data."
      ]
    },
    {
      "cell_type": "code",
      "metadata": {
        "id": "nQjsZOXZO6Zb",
        "colab_type": "code",
        "colab": {}
      },
      "source": [
        "def extract_features(document):\n",
        "    document_words = set(document)\n",
        "    features = {}\n",
        "    for word in word_features:\n",
        "      features['contains(%s)' % word] = (word in document_words)\n",
        "    return features \n",
        "\n",
        "def get_words_in_tweets(tweets):\n",
        "    all_words = []\n",
        "    for (words, sentiment) in tweets:\n",
        "      all_words.extend(words)\n",
        "    return all_words\n",
        "\n",
        "def get_word_features(wordlist):\n",
        "    wordlist = FreqDist(wordlist)\n",
        "    word_features = wordlist.keys()\n",
        "    return word_features"
      ],
      "execution_count": null,
      "outputs": []
    },
    {
      "cell_type": "markdown",
      "metadata": {
        "id": "b2pXNMfxmcSu",
        "colab_type": "text"
      },
      "source": [
        "All the features are stored in word_features"
      ]
    },
    {
      "cell_type": "code",
      "metadata": {
        "id": "-RtlDikKOt6q",
        "colab_type": "code",
        "colab": {}
      },
      "source": [
        "word_features = get_word_features(get_words_in_tweets(tweets))"
      ],
      "execution_count": null,
      "outputs": []
    },
    {
      "cell_type": "markdown",
      "metadata": {
        "id": "Mvx0g19MmgS_",
        "colab_type": "text"
      },
      "source": [
        "Now the training data is made ready."
      ]
    },
    {
      "cell_type": "code",
      "metadata": {
        "id": "89dasYIGPCwi",
        "colab_type": "code",
        "colab": {}
      },
      "source": [
        "training_set = apply_features(extract_features, tweets)"
      ],
      "execution_count": null,
      "outputs": []
    },
    {
      "cell_type": "markdown",
      "metadata": {
        "id": "8ygAaxrxmjLP",
        "colab_type": "text"
      },
      "source": [
        "**A classifier based on the Naive Bayes algorithm. In order to find the probability for a label, this algorithm first uses the Bayes rule to express P(label|features) in terms of P(label) and P(features|label):\n",
        "\n",
        "| P(label) * P(features|label) | P(label|features) = ------------------------------ | P(features)\n",
        "\n",
        "The algorithm then makes the 'naive' assumption that all features are independent, given the label:\n",
        "\n",
        "| P(label) * P(f1|label) * ... * P(fn|label) | P(label|features) = -------------------------------------------- | P(features)\n",
        "\n",
        "Rather than computing P(features) explicitly, the algorithm just calculates the numerator for each label, and normalizes them so they sum to one:\n",
        "\n",
        "| P(label) * P(f1|label) * ... * P(fn|label) | P(label|features) = -------------------------------------------- | SUM[l]( P(l) * P(f1|l) * ... * P(fn|l) )**\n",
        "\n",
        "A Naive Bayes classifier. Naive Bayes classifiers are paramaterized by two probability distributions:\n",
        "\n",
        "  - P(label) gives the probability that an input will receive each\n",
        "    label, given no information about the input's features.\n",
        "\n",
        "  - P(fname=fval|label) gives the probability that a given feature\n",
        "    (fname) will receive a given value (fval), given that the\n",
        "    label (label).\n",
        "\n",
        "If the classifier encounters an input with a feature that has\n",
        "never been seen with any label, then rather than assigning a\n",
        "probability of 0 to all labels, it will ignore that feature.\n",
        "\n",
        "The feature value 'None' is reserved for unseen feature values;\n",
        "you generally should not use 'None' as a feature value for one of\n",
        "your own features."
      ]
    },
    {
      "cell_type": "code",
      "metadata": {
        "id": "hTK0VA0gPgDH",
        "colab_type": "code",
        "colab": {}
      },
      "source": [
        " classifier = nltk.classify.NaiveBayesClassifier.train(training_set)"
      ],
      "execution_count": null,
      "outputs": []
    },
    {
      "cell_type": "markdown",
      "metadata": {
        "id": "CGYtx6vhmpq7",
        "colab_type": "text"
      },
      "source": [
        "Now the Naive Bayes Classifier will classify each of clean tweet text of test data and predict the sentiment of it and the results will be stored in Predictions list."
      ]
    },
    {
      "cell_type": "code",
      "metadata": {
        "id": "arOKa1xTPqQj",
        "colab_type": "code",
        "colab": {}
      },
      "source": [
        "test_tweets = list(test['tweet_text_clean'])\n",
        "k = len(test_tweets)\n",
        "predictions = []\n",
        "for i in range(k):\n",
        "  result = classifier.classify(extract_features(test_tweets[i].split()))\n",
        "  predictions.append(result)\n"
      ],
      "execution_count": null,
      "outputs": []
    },
    {
      "cell_type": "code",
      "metadata": {
        "id": "A9K87DT4rUZ9",
        "colab_type": "code",
        "colab": {
          "base_uri": "https://localhost:8080/",
          "height": 35
        },
        "outputId": "27c0d9fa-4087-4b99-ff8b-7c844a25e183"
      },
      "source": [
        "len(predictions)"
      ],
      "execution_count": null,
      "outputs": [
        {
          "output_type": "execute_result",
          "data": {
            "text/plain": [
              "5398"
            ]
          },
          "metadata": {
            "tags": []
          },
          "execution_count": 97
        }
      ]
    },
    {
      "cell_type": "markdown",
      "metadata": {
        "id": "F25Rmji7muPS",
        "colab_type": "text"
      },
      "source": [
        "Final_results will contain 5398 rows with each row have the tweet id and the associated prediction of the sentiment whether it's negative , neutral or positive."
      ]
    },
    {
      "cell_type": "code",
      "metadata": {
        "id": "IUPrvXdIsmvx",
        "colab_type": "code",
        "colab": {}
      },
      "source": [
        "final_results = pd.DataFrame(columns = ['tweet_id', 'sentiment']) \n",
        "final_results['tweet_id'] = test['tweet_id']\n",
        "final_results['sentiment'] = predictions"
      ],
      "execution_count": null,
      "outputs": []
    },
    {
      "cell_type": "markdown",
      "metadata": {
        "id": "-Anq0UJFmw1T",
        "colab_type": "text"
      },
      "source": [
        "Check the count values for each of the predicted sentiments"
      ]
    },
    {
      "cell_type": "code",
      "metadata": {
        "id": "L6vk3akKx-4w",
        "colab_type": "code",
        "colab": {
          "base_uri": "https://localhost:8080/",
          "height": 35
        },
        "outputId": "8c8a7113-7cd4-4b34-9817-58760855d6af"
      },
      "source": [
        "sum(final_results[\"sentiment\"] == \"neutral\") #To find nos of Neutral Tweets."
      ],
      "execution_count": null,
      "outputs": [
        {
          "output_type": "execute_result",
          "data": {
            "text/plain": [
              "2026"
            ]
          },
          "metadata": {
            "tags": []
          },
          "execution_count": 99
        }
      ]
    },
    {
      "cell_type": "code",
      "metadata": {
        "id": "HLKp46FhyIgi",
        "colab_type": "code",
        "colab": {
          "base_uri": "https://localhost:8080/",
          "height": 35
        },
        "outputId": "18d4f778-4670-4425-9332-dbff42aeaa26"
      },
      "source": [
        "sum(final_results[\"sentiment\"] == \"negative\") #To find nos of Negative Tweets."
      ],
      "execution_count": null,
      "outputs": [
        {
          "output_type": "execute_result",
          "data": {
            "text/plain": [
              "645"
            ]
          },
          "metadata": {
            "tags": []
          },
          "execution_count": 44
        }
      ]
    },
    {
      "cell_type": "code",
      "metadata": {
        "id": "-S-ozydcyPee",
        "colab_type": "code",
        "colab": {
          "base_uri": "https://localhost:8080/",
          "height": 35
        },
        "outputId": "74d7f321-4af7-4bed-a2a4-564775ce03db"
      },
      "source": [
        "sum(final_results[\"sentiment\"] == \"positive\") #To find nos of Positive Tweets."
      ],
      "execution_count": null,
      "outputs": [
        {
          "output_type": "execute_result",
          "data": {
            "text/plain": [
              "3044"
            ]
          },
          "metadata": {
            "tags": []
          },
          "execution_count": 45
        }
      ]
    },
    {
      "cell_type": "code",
      "metadata": {
        "id": "dHRPnxkSm3uL",
        "colab_type": "code",
        "colab": {
          "base_uri": "https://localhost:8080/",
          "height": 109
        },
        "outputId": "6f5625d3-68a6-462d-8f71-6f11d65ae261"
      },
      "source": [
        "print(\"Analysis on the test dataset.. \\n\")\n",
        "d = final_results['sentiment'].value_counts(normalize = True) * 100\n",
        "if (d.index[np.argmax(d.values)] == 'positive'): \n",
        "  print(\"\\nOverall Positive Sentiment.\")\n",
        "  print(\"Positive Sentiment Percentage = \", d.values[np.argmax(d.values)])\n",
        "elif (d.index[np.argmax(d.values)] == 'negative'): \n",
        "  print(\"\\nOverall Negative Sentiment.\")\n",
        "  print(\"Negative Sentiment Percentage = \", d.values[np.argmax(d.values)])\n",
        "else:\n",
        "  print(\"\\nOverall Neutral Sentiment.\")\n",
        "  print(\"Neutral Sentiment Percentage = \", d.values[np.argmax(d.values)])  "
      ],
      "execution_count": null,
      "outputs": [
        {
          "output_type": "stream",
          "text": [
            "Analysis on the test dataset.. \n",
            "\n",
            "\n",
            "Overall Positive Sentiment.\n",
            "Positive Sentiment Percentage =  61.522786217117456\n"
          ],
          "name": "stdout"
        }
      ]
    },
    {
      "cell_type": "code",
      "metadata": {
        "id": "hzlE81I_SGJN",
        "colab_type": "code",
        "colab": {}
      },
      "source": [
        "#back to the .csv file\n",
        "final_results.to_csv('final.csv', index=False)"
      ],
      "execution_count": null,
      "outputs": []
    },
    {
      "cell_type": "markdown",
      "metadata": {
        "id": "MJAkHn5hX1WS",
        "colab_type": "text"
      },
      "source": [
        "# This is the second approach using SVM Model on TF-IDF Vectorizer"
      ]
    },
    {
      "cell_type": "markdown",
      "metadata": {
        "id": "m0Z3l_08bjJm",
        "colab_type": "text"
      },
      "source": [
        "TF-IDF Features\n",
        "\n",
        "This is another method which is based on the frequency method but it is different to the bag-of-words approach in the sense that it takes into account, not just the occurrence of a word in a single document (or tweet) but in the entire corpus.\n",
        "\n",
        "TF-IDF works by penalizing the common words by assigning them lower weights while giving importance to words which are rare in the entire corpus but appear in good numbers in few documents.\n",
        "\n",
        "Let’s have a look at the important terms related to TF-IDF:\n",
        "\n",
        "TF = (Number of times term t appears in a document)/(Number of terms in the document)\n",
        "IDF = log(N/n), where, N is the number of documents and n is the number of documents a term t has appeared in.\n",
        "TF-IDF = TF*IDF\n"
      ]
    },
    {
      "cell_type": "code",
      "metadata": {
        "id": "zYpKS9CTUAMY",
        "colab_type": "code",
        "colab": {
          "base_uri": "https://localhost:8080/",
          "height": 182
        },
        "outputId": "1f30dfe9-e213-43cf-e697-44e0ad3d7d36"
      },
      "source": [
        "# Dividing Data to Training and Validation Sets\n",
        "from sklearn.model_selection import train_test_split  \n",
        "x = pp_list\n",
        "y = train['sentiment'].values\n",
        "x_train, x_val, y_train, y_val = train_test_split(x, y, test_size=0.2, random_state = 1)\n",
        "print(\"Number of data points in training data :\\n\")\n",
        "print(\"X = \", len(x_train))\n",
        "print(\"Y = \", len(y_train))\n",
        "\n",
        "print(\"\\nNumber of data points in validation data :\\n\")\n",
        "print(\"X = \", len(x_val))\n",
        "print(\"Y = \", len(y_val))"
      ],
      "execution_count": null,
      "outputs": [
        {
          "output_type": "stream",
          "text": [
            "Number of data points in training data :\n",
            "\n",
            "X =  17172\n",
            "Y =  17172\n",
            "\n",
            "Number of data points in validation data :\n",
            "\n",
            "X =  4293\n",
            "Y =  4293\n"
          ],
          "name": "stdout"
        }
      ]
    },
    {
      "cell_type": "code",
      "metadata": {
        "id": "_9mzCXdhUJlg",
        "colab_type": "code",
        "colab": {
          "base_uri": "https://localhost:8080/",
          "height": 54
        },
        "outputId": "ee28585a-852b-49ae-f8aa-2e86fb8c8387"
      },
      "source": [
        "#Word Vectorization Using TF-IDF Vectorizer\n",
        "from sklearn.feature_extraction.text import TfidfTransformer\n",
        "from sklearn.feature_extraction.text import TfidfVectorizer\n",
        "\n",
        "vectorizer = TfidfVectorizer()\n",
        "train_vectors = vectorizer.fit_transform(x_train)\n",
        "\n",
        "val_vectors = vectorizer.transform(x_val)\n",
        "print(\"Shape of training data : \",train_vectors.shape, \"\\nShape of validation data : \",val_vectors.shape)"
      ],
      "execution_count": null,
      "outputs": [
        {
          "output_type": "stream",
          "text": [
            "Shape of training data :  (17172, 36577) \n",
            "Shape of validation data :  (4293, 36577)\n"
          ],
          "name": "stdout"
        }
      ]
    },
    {
      "cell_type": "code",
      "metadata": {
        "id": "fEILZQtJUjAA",
        "colab_type": "code",
        "colab": {
          "base_uri": "https://localhost:8080/",
          "height": 35
        },
        "outputId": "a3a53326-cc7d-423e-dcdb-ae6d4e4bd385"
      },
      "source": [
        "# building a SVM Model using tf- idf approach\n",
        "from sklearn import svm\n",
        "model_SVM = svm.SVC(kernel='linear')\n",
        "model_SVM.fit(train_vectors, y_train)\n",
        "print(\"Sentiment Analyzer from Support Vector Machine is ready and trained.\")"
      ],
      "execution_count": null,
      "outputs": [
        {
          "output_type": "stream",
          "text": [
            "Sentiment Analyzer from Support Vector Machine is ready and trained.\n"
          ],
          "name": "stdout"
        }
      ]
    },
    {
      "cell_type": "code",
      "metadata": {
        "id": "rr9ZVjc_UqbK",
        "colab_type": "code",
        "colab": {
          "base_uri": "https://localhost:8080/",
          "height": 662
        },
        "outputId": "93635e8b-4806-49ee-f39e-3d0cae59c91d"
      },
      "source": [
        "def performance(model, y_true, vectors):\n",
        "  from sklearn.metrics import classification_report, confusion_matrix, accuracy_score\n",
        "  y_pred = model.predict(vectors)\n",
        "  df = pd.DataFrame({'actual' : y_true, 'predicted' : y_pred})\n",
        "  #Analysis after prediction\n",
        "  d = df['predicted'].value_counts(normalize = True) * 100 # series\n",
        "  print(d)\n",
        "  ## plotting for the analysis\n",
        "  plt.bar(x = d.index, height = d.values, label = d.index, color= ['green','blue','red'])\n",
        "  plt.xlabel(\"Sentiment\")\n",
        "  plt.ylabel(\"Percentage\")\n",
        "  plt.title('Sentiment Analysis')\n",
        "  plt.show()\n",
        "  \n",
        "  cm = confusion_matrix(y_true,y_pred)\n",
        "  crp = classification_report(y_true,y_pred)\n",
        "  acc = accuracy_score(y_true,y_pred)\n",
        "  return (cm, crp, acc)\n",
        "\n",
        "#Let us test the performance of our model on the validation set to predict the sentiment labels using the different ML models trained.\n",
        "perform = performance(model_SVM, y_val, val_vectors)\n",
        "print(\"Confusion Matrix :\\n\", perform[0])  \n",
        "print(\"classification report: \\n\", perform[1])  \n",
        "print(\"Accuracy score  = \", perform[2] *100)"
      ],
      "execution_count": null,
      "outputs": [
        {
          "output_type": "stream",
          "text": [
            "neutral     48.730491\n",
            "positive    42.324715\n",
            "negative     8.944794\n",
            "Name: predicted, dtype: float64\n"
          ],
          "name": "stdout"
        },
        {
          "output_type": "display_data",
          "data": {
            "image/png": "[encoded data removed]",
            "text/plain": [
              "<Figure size 432x288 with 1 Axes>"
            ]
          },
          "metadata": {
            "tags": [],
            "needs_background": "light"
          }
        },
        {
          "output_type": "stream",
          "text": [
            "Confusion Matrix :\n",
            " [[ 222  312  127]\n",
            " [ 110 1278  442]\n",
            " [  52  502 1248]]\n",
            "classification report: \n",
            "               precision    recall  f1-score   support\n",
            "\n",
            "    negative       0.58      0.34      0.42       661\n",
            "     neutral       0.61      0.70      0.65      1830\n",
            "    positive       0.69      0.69      0.69      1802\n",
            "\n",
            "    accuracy                           0.64      4293\n",
            "   macro avg       0.63      0.58      0.59      4293\n",
            "weighted avg       0.64      0.64      0.63      4293\n",
            "\n",
            "Accuracy score  =  64.01118099231307\n"
          ],
          "name": "stdout"
        }
      ]
    },
    {
      "cell_type": "code",
      "metadata": {
        "id": "YBYGmK1wVT2f",
        "colab_type": "code",
        "colab": {
          "base_uri": "https://localhost:8080/",
          "height": 237
        },
        "outputId": "96c07823-42ce-454d-d044-c984f21e57a5"
      },
      "source": [
        "print(\"\\nShape of test data = \", test.shape)\n",
        "test_list = list(test['tweet_text_clean'])\n",
        "\n",
        "#finding the vectors for the test data\n",
        "test_vectors = vectorizer.transform(test_list)\n",
        "print(\"Shape of testing features : \",test_vectors.shape)\n",
        "print(\"-\" * 50)\n",
        "\n",
        "#Let us test the performance of our model on the testing set to predict the sentiment labels\n",
        "from sklearn.metrics import classification_report, confusion_matrix, accuracy_score\n",
        "predicted = model_SVM.predict(test_vectors)\n",
        "\n",
        "print(\"Final Results after applying SVM on TF-IDF Vectorizer: \\n\")\n",
        "svm_results = pd.DataFrame({'tweet_id' : test['tweet_id'].astype(str), 'sentiment' : predicted}, \n",
        "                       columns = ['tweet_id', 'sentiment'])\n",
        "\n",
        "svm_results.to_csv(\"finalv2.csv\", sep= \",\", index = False)\n",
        "print(\"-\" * 50)\n",
        "\n",
        "print(\"Analysis on the test dataset.. \\n\")\n",
        "d = svm_results['sentiment'].value_counts(normalize = True) * 100\n",
        "if (d.index[np.argmax(d.values)] == 'positive'): \n",
        "  print(\"\\nOverall Positive Sentiment.\")\n",
        "  print(\"Positive Sentiment Percentage = \", d.values[np.argmax(d.values)])\n",
        "elif (d.index[np.argmax(d.values)] == 'negative'): \n",
        "  print(\"\\nOverall Negative Sentiment.\")\n",
        "  print(\"Negative Sentiment Percentage = \", d.values[np.argmax(d.values)])\n",
        "else:\n",
        "  print(\"\\nOverall Neutral Sentiment.\")\n",
        "  print(\"Neutral Sentiment Percentage = \", d.values[np.argmax(d.values)])  "
      ],
      "execution_count": null,
      "outputs": [
        {
          "output_type": "stream",
          "text": [
            "\n",
            "Shape of test data =  (5398, 4)\n",
            "Shape of testing features :  (5398, 36577)\n",
            "--------------------------------------------------\n",
            "Final Results after applying SVM on TF-IDF Vectorizer: \n",
            "\n",
            "--------------------------------------------------\n",
            "Analysis on the test dataset.. \n",
            "\n",
            "\n",
            "Overall Neutral Sentiment.\n",
            "Neutral Sentiment Percentage =  53.945905891070765\n"
          ],
          "name": "stdout"
        }
      ]
    },
    {
      "cell_type": "markdown",
      "metadata": {
        "id": "WxmGg-CFdOhS",
        "colab_type": "text"
      },
      "source": [
        "Extra features from TF-IDF helps us to find similarity between words, that means it can find similarity to the specific emotion-representing words. The first idea was to compute similarity of the whole tweet with words from labels: positive, negative, neutral. Since the purpose was to find the sentiment, it will be better to find similarity with more expressive words such as: good and bad. For the neutral sentiment, using word information, since most of the tweets with neutral sentiment were giving the information.\n",
        "The features were builded by computing mean similarity of the whole tweet to the given word. Then, those mean values were normalized to between 0 and 1 in order to deal with different word count across tweets."
      ]
    }
  ]
}